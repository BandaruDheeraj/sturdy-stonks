{
 "cells": [
  {
   "cell_type": "code",
   "execution_count": 2,
   "metadata": {},
   "outputs": [
    {
     "name": "stderr",
     "output_type": "stream",
     "text": [
      "/home/dheeraj/.local/lib/python3.6/site-packages/ffn/core.py:27: MatplotlibDeprecationWarning: The 'warn' parameter of use() is deprecated since Matplotlib 3.1 and will be removed in 3.3.  If any parameter follows 'warn', they should be pass as keyword, not positionally.\n",
      "  matplotlib.use('agg', warn=False)\n"
     ]
    }
   ],
   "source": [
    "import ffn\n",
    "\n",
    "# pip install pandas-datareader --upgrade"
   ]
  },
  {
   "cell_type": "code",
   "execution_count": 3,
   "metadata": {},
   "outputs": [
    {
     "data": {
      "text/plain": [
       "aapl    52.01%\n",
       "msft     0.00%\n",
       "dkng    20.68%\n",
       "nvda     6.72%\n",
       "lmnd    20.59%\n",
       "dtype: object"
      ]
     },
     "execution_count": 3,
     "metadata": {},
     "output_type": "execute_result"
    }
   ],
   "source": [
    "returns = ffn.get('aapl,msft,dkng,nvda,lmnd', start='2010-01-01').to_returns().dropna()\n",
    "returns.calc_mean_var_weights().as_format('.2%')"
   ]
  },
  {
   "cell_type": "code",
   "execution_count": 4,
   "metadata": {},
   "outputs": [],
   "source": [
    "from empyrical import alpha_beta\n",
    "from pypfopt.efficient_frontier import EfficientFrontier\n",
    "from pypfopt import risk_models\n",
    "from pypfopt import expected_returns\n",
    "from pypfopt import discrete_allocation\n",
    "from pypfopt.discrete_allocation import DiscreteAllocation, get_latest_prices\n",
    "import matplotlib as pyplot\n",
    "import numpy as np\n",
    "import pandas as pd"
   ]
  },
  {
   "cell_type": "code",
   "execution_count": 186,
   "metadata": {},
   "outputs": [],
   "source": [
    "import csv\n",
    "def get_tickers(year=2016):\n",
    "    reader = csv.reader(open(\"TICKER_LIST_CLEANED.csv\"))\n",
    "    next(reader)\n",
    "    stocks = [line[0].strip() for line in reader if all(punc not in line[0] for punc in ['.','/']) and (not line[7] or int(line[7]) < year)]\n",
    "    return stocks"
   ]
  },
  {
   "cell_type": "code",
   "execution_count": 216,
   "metadata": {},
   "outputs": [
    {
     "name": "stdout",
     "output_type": "stream",
     "text": [
      "ACET\n",
      "ACET\n",
      "['A', 'AA', 'AACG', 'AAIC', 'AAL', 'AAMC', 'AAME', 'AAOI', 'AAON', 'AAP', 'AAPL', 'AAT', 'AAU', 'AAWW', 'AAXN', 'AB', 'ABB', 'ABBV', 'ABC', 'ABCB', 'ABEO', 'ABEV', 'ABG', 'ABIO', 'ABM', 'ABMD', 'ABR', 'ABT', 'ABTX', 'ABUS', 'AC', 'ACA', 'ACAD', 'ACAM', 'ACAMU', 'ACB', 'ACBI', 'ACC', 'ACCO', 'ACEL', 'ACER', 'ACET', 'ACGL', 'ACGLO', 'ACGLP', 'ACH', 'ACHC', 'ACHV', 'ACIA', 'ACIU', 'ACIW', 'ACKI']\n"
     ]
    }
   ],
   "source": [
    "tickers = get_tickers(year=2020)\n",
    "print(tickers[41])\n",
    "# del tickers[41]\n",
    "print(tickers[41])\n",
    "print(tickers[0:52])"
   ]
  },
  {
   "cell_type": "code",
   "execution_count": 215,
   "metadata": {},
   "outputs": [],
   "source": [
    "prices = ffn.get(tickers[0:51], start = '2016-01-01')"
   ]
  },
  {
   "cell_type": "code",
   "execution_count": 190,
   "metadata": {},
   "outputs": [],
   "source": [
    "# prices = ffn.get('msft,aapl,amzn,lmnd,nvda,crsp,tsla', start='2016-01-01')\n",
    "benchmark = ffn.get('spy', start='2016-01-01')\n"
   ]
  },
  {
   "cell_type": "code",
   "execution_count": 191,
   "metadata": {},
   "outputs": [],
   "source": [
    "msft = ffn.get('msft', start='2016-01-01')\n",
    "ax = prices.rebase().plot()"
   ]
  },
  {
   "cell_type": "code",
   "execution_count": 192,
   "metadata": {},
   "outputs": [
    {
     "name": "stderr",
     "output_type": "stream",
     "text": [
      "/home/dheeraj/.local/lib/python3.6/site-packages/ffn/core.py:2056: RuntimeWarning: divide by zero encountered in true_divide\n",
      "  res = np.divide(er.mean(), std)\n",
      "/home/dheeraj/.local/lib/python3.6/site-packages/ffn/core.py:2056: RuntimeWarning: divide by zero encountered in true_divide\n",
      "  res = np.divide(er.mean(), std)\n",
      "/home/dheeraj/.local/lib/python3.6/site-packages/ffn/core.py:2056: RuntimeWarning: divide by zero encountered in true_divide\n",
      "  res = np.divide(er.mean(), std)\n",
      "/home/dheeraj/.local/lib/python3.6/site-packages/ffn/core.py:2056: RuntimeWarning: divide by zero encountered in true_divide\n",
      "  res = np.divide(er.mean(), std)\n",
      "/home/dheeraj/.local/lib/python3.6/site-packages/ffn/core.py:2056: RuntimeWarning: divide by zero encountered in true_divide\n",
      "  res = np.divide(er.mean(), std)\n",
      "/home/dheeraj/.local/lib/python3.6/site-packages/ffn/core.py:2056: RuntimeWarning: divide by zero encountered in true_divide\n",
      "  res = np.divide(er.mean(), std)\n",
      "/home/dheeraj/.local/lib/python3.6/site-packages/ffn/core.py:2056: RuntimeWarning: divide by zero encountered in true_divide\n",
      "  res = np.divide(er.mean(), std)\n",
      "/home/dheeraj/.local/lib/python3.6/site-packages/ffn/core.py:2056: RuntimeWarning: divide by zero encountered in true_divide\n",
      "  res = np.divide(er.mean(), std)\n",
      "/home/dheeraj/.local/lib/python3.6/site-packages/ffn/core.py:2056: RuntimeWarning: divide by zero encountered in true_divide\n",
      "  res = np.divide(er.mean(), std)\n",
      "/home/dheeraj/.local/lib/python3.6/site-packages/ffn/core.py:2056: RuntimeWarning: divide by zero encountered in true_divide\n",
      "  res = np.divide(er.mean(), std)\n",
      "/home/dheeraj/.local/lib/python3.6/site-packages/ffn/core.py:2056: RuntimeWarning: divide by zero encountered in true_divide\n",
      "  res = np.divide(er.mean(), std)\n",
      "/home/dheeraj/.local/lib/python3.6/site-packages/ffn/core.py:2056: RuntimeWarning: divide by zero encountered in true_divide\n",
      "  res = np.divide(er.mean(), std)\n",
      "/home/dheeraj/.local/lib/python3.6/site-packages/ffn/core.py:2056: RuntimeWarning: divide by zero encountered in true_divide\n",
      "  res = np.divide(er.mean(), std)\n",
      "/home/dheeraj/.local/lib/python3.6/site-packages/ffn/core.py:2056: RuntimeWarning: divide by zero encountered in true_divide\n",
      "  res = np.divide(er.mean(), std)\n"
     ]
    },
    {
     "name": "stdout",
     "output_type": "stream",
     "text": [
      "Stat                 a           aa          aacg        aaic        aal         aamc        aame        aaoi        aaon        aap         aapl        aat         aau         aaww        aaxn        ab          abb         abbv        abc         abcb        abeo        abev        abg         abio        abm         abmd        abr         abt         abtx        abus        ac          aca         acad        acam        acamu       acb\n",
      "-------------------  ----------  ----------  ----------  ----------  ----------  ----------  ----------  ----------  ----------  ----------  ----------  ----------  ----------  ----------  ----------  ----------  ----------  ----------  ----------  ----------  ----------  ----------  ----------  ----------  ----------  ----------  ----------  ----------  ----------  ----------  ----------  ----------  ----------  ----------  ----------  ----------\n",
      "Start                2019-05-09  2019-05-09  2019-05-09  2019-05-09  2019-05-09  2019-05-09  2019-05-09  2019-05-09  2019-05-09  2019-05-09  2019-05-09  2019-05-09  2019-05-09  2019-05-09  2019-05-09  2019-05-09  2019-05-09  2019-05-09  2019-05-09  2019-05-09  2019-05-09  2019-05-09  2019-05-09  2019-05-09  2019-05-09  2019-05-09  2019-05-09  2019-05-09  2019-05-09  2019-05-09  2019-05-09  2019-05-09  2019-05-09  2019-05-09  2019-05-09  2019-05-09\n",
      "End                  2021-01-06  2021-01-06  2021-01-06  2021-01-06  2021-01-06  2021-01-06  2021-01-06  2021-01-06  2021-01-06  2021-01-06  2021-01-06  2021-01-06  2021-01-06  2021-01-06  2021-01-06  2021-01-06  2021-01-06  2021-01-06  2021-01-06  2021-01-06  2021-01-06  2021-01-06  2021-01-06  2021-01-06  2021-01-06  2021-01-06  2021-01-06  2021-01-06  2021-01-06  2021-01-06  2021-01-06  2021-01-06  2021-01-06  2021-01-06  2021-01-06  2021-01-06\n",
      "Risk-free rate       0.00%       0.00%       0.00%       0.00%       0.00%       0.00%       0.00%       0.00%       0.00%       0.00%       0.00%       0.00%       0.00%       0.00%       0.00%       0.00%       0.00%       0.00%       0.00%       0.00%       0.00%       0.00%       0.00%       0.00%       0.00%       0.00%       0.00%       0.00%       0.00%       0.00%       0.00%       0.00%       0.00%       0.00%       0.00%       0.00%\n",
      "\n",
      "Total Return         61.93%      1.61%       -36.13%     -42.78%     -53.81%     -4.35%      -2.13%      -12.35%     47.01%      5.09%       157.19%     -33.34%     13.04%      25.94%      82.36%      36.01%      63.09%      49.49%      38.47%      19.52%      -77.99%     -26.89%     97.63%      -72.65%     11.75%      22.78%      32.22%      47.65%      5.34%       50.63%      -13.71%     69.49%      107.04%     12.21%      18.61%      -89.75%\n",
      "Daily Sharpe         1.05        0.36        0.09        0.06        -0.15       0.49        0.42        0.26        0.74        0.28        1.65        -0.21       0.55        0.55        0.89        0.61        1.06        0.91        0.71        0.48        -0.10       -0.13       0.99        0.31        0.38        0.51        0.59        0.88        0.32        0.81        0.19        0.90        0.92        0.78        0.48        -0.43\n",
      "Daily Sortino        1.64        0.60        0.16        0.08        -0.27       0.81        0.76        0.43        1.27        0.42        2.72        -0.31       0.96        0.88        1.63        0.95        1.66        1.38        1.25        0.78        -0.21       -0.20       1.63        1.75        0.63        0.71        0.94        1.49        0.53        1.89        0.35        1.50        2.06        1.50        0.92        -0.92\n",
      "CAGR                 33.59%      0.97%       -23.61%     -28.49%     -37.12%     -2.64%      -1.28%      -7.61%      26.05%      3.03%       76.38%      -21.62%     7.64%       14.86%      43.47%      20.29%      34.16%      27.32%      21.59%      11.31%      -59.72%     -17.15%     50.57%      -54.10%     6.90%       13.12%      18.27%      26.38%      3.17%       27.90%      -8.48%      37.30%      54.84%      7.16%       10.80%      -74.55%\n",
      "Max Drawdown         -29.69%     -78.12%     -76.49%     -75.06%     -73.59%     -66.56%     -47.18%     -64.74%     -30.96%     -55.64%     -31.43%     -55.96%     -70.37%     -64.76%     -40.82%     -58.08%     -40.98%     -34.04%     -23.78%     -58.02%     -86.87%     -63.15%     -65.68%     -84.64%     -51.12%     -53.26%     -72.76%     -31.61%     -44.03%     -73.39%     -58.82%     -36.79%     -38.42%     -6.21%      -13.09%     -96.41%\n",
      "Calmar Ratio         1.13        0.01        -0.31       -0.38       -0.50       -0.04       -0.03       -0.12       0.84        0.05        2.43        -0.39       0.11        0.23        1.06        0.35        0.83        0.80        0.91        0.19        -0.69       -0.27       0.77        -0.64       0.13        0.25        0.25        0.83        0.07        0.38        -0.14       1.01        1.43        1.15        0.82        -0.77\n",
      "\n",
      "MTD                  3.88%       9.37%       2.52%       2.65%       -1.59%      -3.10%      11.65%      12.57%      3.38%       5.55%       -4.59%      -0.55%      10.64%      -2.53%      -0.69%      1.69%       6.12%       -1.47%      8.60%       10.66%      8.92%       0.33%       8.84%       2.99%       9.18%       -0.80%      1.20%       0.68%       8.09%       0.56%       -3.82%      10.27%      0.62%       -2.32%      -4.15%      23.59%\n",
      "3m                   21.12%      116.02%     9.91%       38.08%      23.86%      11.46%      16.75%      -14.46%     9.85%       7.31%       12.07%      13.99%      -33.33%     -16.89%     30.54%      27.27%      14.51%      24.60%      11.48%      66.67%      40.16%      30.21%      40.92%      -20.27%     11.91%      21.44%      27.40%      4.09%       48.84%      16.29%      2.41%       33.03%      29.05%      6.94%       12.98%      128.22%\n",
      "6m                   38.07%      119.79%     -10.29%     31.08%      21.25%      27.30%      41.98%      -17.27%     26.54%      20.02%      35.93%      7.09%       4.00%       17.17%      22.13%      33.87%      22.70%      9.41%       6.28%       89.83%      -45.02%     17.14%      102.30%     -35.77%     16.74%      20.81%      74.64%      19.42%      56.73%      90.91%      -10.43%     47.35%      0.19%       6.32%       14.39%      -15.68%\n",
      "YTD                  3.88%       9.37%       2.52%       2.65%       -1.59%      -3.10%      11.65%      12.57%      3.38%       5.55%       -4.59%      -0.55%      10.64%      -2.53%      -0.69%      1.69%       6.12%       -1.47%      8.60%       10.66%      8.92%       0.33%       8.84%       2.99%       9.18%       -0.80%      1.20%       0.68%       8.09%       0.56%       -3.82%      10.27%      0.62%       -2.32%      -4.15%      23.59%\n",
      "1Y                   46.06%      20.05%      -14.69%     -30.96%     -42.98%     67.28%      23.66%      -21.15%     37.92%      7.03%       70.37%      -35.84%     -7.14%      93.80%      77.00%      24.66%      27.46%      24.64%      26.77%      1.72%       -38.27%     -31.80%     47.22%      -26.64%     9.78%       79.63%      12.54%      29.68%      -0.07%      12.26%      -14.21%     33.86%      25.65%      9.51%       16.76%      -54.96%\n",
      "3Y (ann.)            33.59%      0.97%       -23.61%     -28.49%     -37.12%     -2.64%      -1.28%      -7.61%      26.05%      3.03%       76.38%      -21.62%     7.64%       14.86%      43.47%      20.29%      34.16%      27.32%      21.59%      11.31%      -59.72%     -17.15%     50.57%      -54.10%     6.90%       13.12%      18.27%      26.38%      3.17%       27.90%      -8.48%      37.30%      54.84%      7.16%       10.80%      -74.55%\n",
      "5Y (ann.)            -           -           -           -           -           -           -           -           -           -           -           -           -           -           -           -           -           -           -           -           -           -           -           -           -           -           -           -           -           -           -           -           -           -           -           -\n",
      "10Y (ann.)           -           -           -           -           -           -           -           -           -           -           -           -           -           -           -           -           -           -           -           -           -           -           -           -           -           -           -           -           -           -           -           -           -           -           -           -\n",
      "Since Incep. (ann.)  33.59%      0.97%       -23.61%     -28.49%     -37.12%     -2.64%      -1.28%      -7.61%      26.05%      3.03%       76.38%      -21.62%     7.64%       14.86%      43.47%      20.29%      34.16%      27.32%      21.59%      11.31%      -59.72%     -17.15%     50.57%      -54.10%     6.90%       13.12%      18.27%      26.38%      3.17%       27.90%      -8.48%      37.30%      54.84%      7.16%       10.80%      -74.55%\n",
      "\n",
      "Daily Sharpe         1.05        0.36        0.09        0.06        -0.15       0.49        0.42        0.26        0.74        0.28        1.65        -0.21       0.55        0.55        0.89        0.61        1.06        0.91        0.71        0.48        -0.10       -0.13       0.99        0.31        0.38        0.51        0.59        0.88        0.32        0.81        0.19        0.90        0.92        0.78        0.48        -0.43\n",
      "Daily Sortino        1.64        0.60        0.16        0.08        -0.27       0.81        0.76        0.43        1.27        0.42        2.72        -0.31       0.96        0.88        1.63        0.95        1.66        1.38        1.25        0.78        -0.21       -0.20       1.63        1.75        0.63        0.71        0.94        1.49        0.53        1.89        0.35        1.50        2.06        1.50        0.92        -0.92\n",
      "Daily Mean (ann.)    34.46%      24.24%      7.40%       4.64%       -12.56%     50.65%      38.19%      18.87%      33.04%      11.05%      64.71%      -10.69%     50.97%      36.82%      53.89%      32.73%      34.96%      29.65%      26.38%      28.53%      -13.63%     -6.36%      58.91%      95.01%      18.50%      25.27%      40.68%      28.77%      16.41%      127.77%     12.85%      43.75%      66.82%      7.38%       14.83%      -57.15%\n",
      "Daily Vol (ann.)     32.77%      68.29%      83.79%      83.35%      84.21%      103.55%     90.67%      73.04%      44.76%      39.80%      39.25%      51.68%      92.97%      67.44%      60.23%      53.35%      32.96%      32.54%      36.93%      59.59%      130.59%     49.81%      59.50%      311.44%     48.68%      49.56%      69.29%      32.53%      51.68%      157.29%     68.46%      48.82%      72.50%      9.44%       31.00%      134.24%\n",
      "Daily Skew           -0.42       0.24        0.74        -1.28       1.72        0.53        1.76        -0.06       1.42        -0.96       -0.11       -0.94       -0.02       -0.08       1.23        0.63        -0.37       -1.42       0.58        -0.01       3.31        -0.32       -0.23       18.33       0.30        -2.04       0.55        0.27        0.29        4.87        3.50        0.02        6.17        3.84        4.78        3.05\n",
      "Daily Kurt           6.03        7.32        4.33        28.84       14.84       8.35        21.03       3.77        21.07       10.03       5.34        15.96       3.86        7.55        9.78        25.75       9.73        14.88       5.63        4.16        39.05       5.02        4.41        361.41      9.30        17.89       11.66       5.96        3.56        55.40       42.30       6.84        87.30       49.03       55.54       20.47\n",
      "Best Day             9.84%       28.22%      29.25%      33.33%      41.10%      39.06%      53.04%      19.09%      26.24%      13.18%      11.98%      19.90%      20.83%      26.62%      24.58%      31.65%      13.33%      8.72%       11.82%      15.50%      90.91%      11.39%      16.83%      386.33%     19.98%      14.20%      28.12%      10.94%      17.01%      119.86%     48.82%      15.87%      63.24%      6.97%       22.57%      68.67%\n",
      "Worst Day            -11.01%     -21.07%     -19.78%     -49.70%     -25.22%     -30.69%     -33.21%     -23.25%     -14.90%     -16.22%     -12.86%     -27.00%     -32.47%     -24.62%     -15.09%     -22.06%     -12.20%     -16.25%     -10.56%     -16.40%     -41.40%     -20.08%     -18.93%     -34.41%     -17.82%     -26.45%     -21.51%     -9.79%      -12.44%     -46.46%     -17.27%     -18.52%     -19.36%     -3.11%      -8.29%      -29.37%\n",
      "\n",
      "Monthly Sharpe       1.78        0.58        -0.04       0.08        -0.29       0.58        0.09        0.39        1.26        0.32        2.17        -0.27       0.55        0.73        0.93        0.77        1.36        0.97        1.40        0.51        -0.03       -0.17       1.17        0.38        0.42        0.49        0.70        1.22        0.42        0.89        0.08        1.48        1.43        0.84        0.81        -0.21\n",
      "Monthly Sortino      4.63        0.92        -0.08       0.11        -0.48       1.47        0.14        0.89        2.66        0.53        5.56        -0.41       0.97        1.20        2.73        1.07        2.50        2.44        3.61        0.87        -0.05       -0.28       1.95        1.75        0.86        0.91        0.98        2.76        0.64        2.35        0.14        3.20        4.18        2.69        1.79        -0.79\n",
      "Monthly Mean (ann.)  40.15%      47.64%      -2.77%      5.76%       -16.53%     53.72%      3.37%       25.59%      28.21%      13.84%      71.47%      -12.75%     49.99%      43.14%      47.56%      32.28%      35.74%      29.53%      21.49%      22.47%      -2.96%      -8.21%      60.11%      78.04%      20.12%      25.91%      45.93%      25.92%      14.27%      128.69%     3.15%       39.22%      56.30%      7.27%       11.30%      -36.64%\n",
      "Monthly Vol (ann.)   22.55%      81.96%      69.35%      70.34%      56.50%      92.64%      37.82%      65.84%      22.31%      42.90%      32.98%      47.37%      90.83%      58.97%      51.32%      41.71%      26.19%      30.47%      15.32%      44.42%      112.12%     47.36%      51.46%      204.29%     48.06%      53.04%      65.17%      21.25%      33.67%      144.13%     41.37%      26.51%      39.30%      8.69%       13.90%      174.69%\n",
      "Monthly Skew         0.07        -0.62       0.95        -1.31       -0.16       0.93        -0.69       0.49        -0.21       -0.13       -0.52       0.03        -0.20       -0.93       1.34        -1.96       -0.91       0.55        0.17        -0.39       0.07        -0.18       -0.96       3.75        1.00        -0.09       -1.79       0.44        -0.99       0.89        0.15        -0.44       0.49        2.65        1.05        3.21\n",
      "Monthly Kurt         -0.58       1.70        0.86        3.70        -0.06       0.40        -0.69       -0.86       0.02        2.15        -0.75       5.37        0.45        1.71        1.98        7.80        0.92        -0.05       -0.90       1.18        -0.89       -0.30       2.85        15.63       3.51        -0.05       7.06        1.62        3.47        0.87        0.30        -0.59       -0.22       9.94        3.26        11.73\n",
      "Best Month           14.98%      54.02%      47.54%      30.49%      25.27%      62.11%      12.18%      41.24%      13.71%      29.56%      21.66%      37.08%      57.14%      27.97%      44.34%      25.98%      14.75%      22.89%      9.50%       28.62%      51.40%      24.30%      29.51%      244.26%     42.67%      31.75%      40.61%      17.19%      21.10%      109.34%     25.07%      13.62%      30.12%      9.80%       12.73%      188.40%\n",
      "Worst Month          -6.84%      -55.59%     -29.28%     -61.31%     -36.01%     -35.36%     -20.63%     -21.96%     -12.16%     -29.63%     -11.47%     -39.22%     -53.92%     -43.37%     -15.29%     -38.87%     -16.70%     -11.11%     -5.19%      -30.02%     -56.60%     -28.35%     -37.69%     -47.46%     -26.00%     -30.69%     -59.64%     -11.60%     -27.31%     -65.41%     -25.64%     -13.36%     -14.24%     -2.76%      -6.36%      -52.55%\n",
      "\n",
      "Yearly Sharpe        0.86        5.29        -0.47       -0.60       -0.76       0.66        1.62        -0.27       0.85        0.54        0.63        -0.73       -0.22       0.67        0.69        0.82        1.28        0.64        2.15        0.09        -0.50       -0.69       1.29        -0.58       1.14        0.69        0.90        0.74        0.00        0.74        -1.66       1.77        0.74        0.48        0.48        -0.34\n",
      "Yearly Sortino       inf         inf         -0.56       -0.65       -0.76       20.06       inf         -0.39       inf         4.74        11.97       -0.73       -0.34       26.63       68.61       inf         inf         12.67       inf         0.20        -0.59       -0.70       inf         -0.64       inf         78.99       inf         inf         0.01        inf         -1.66       inf         inf         2.98        3.01        -0.46\n",
      "Yearly Mean          21.84%      8.27%       -4.99%      -14.75%     -23.20%     43.92%      8.11%       -7.90%      19.54%      2.41%       38.86%      -17.80%     -4.85%      47.65%      33.26%      12.34%      13.66%      13.13%      12.82%      1.18%       -21.54%     -16.14%     19.60%      -13.39%     5.66%       44.62%      5.62%       14.36%      0.04%       14.13%      -6.64%      17.07%      12.79%      4.90%       8.83%       -22.18%\n",
      "Yearly Vol           25.39%      1.56%       10.62%      24.59%      30.57%      66.49%      5.01%       28.95%      22.86%      4.43%       61.45%      24.38%      21.90%      70.96%      48.01%      15.07%      10.68%      20.64%      5.96%       13.41%      43.07%      23.28%      15.23%      23.17%      4.98%       64.24%      6.25%       19.35%      11.38%      19.19%      4.00%       9.62%       17.22%      10.21%      18.36%      64.72%\n",
      "Yearly Skew          -           -           -           -           -           -           -           -           -           -           -           -           -           -           -           -           -           -           -           -           -           -           -           -           -           -           -           -           -           -           -           -           -           -           -           -\n",
      "Yearly Kurt          -           -           -           -           -           -           -           -           -           -           -           -           -           -           -           -           -           -           -           -           -           -           -           -           -           -           -           -           -           -           -           -           -           -           -           -\n",
      "Best Year            39.79%      9.37%       2.52%       2.65%       -1.59%      90.93%      11.65%      12.57%      35.71%      5.55%       82.31%      -0.55%      10.64%      97.82%      67.21%      23.00%      21.21%      27.72%      17.03%      10.66%      8.92%       0.33%       30.37%      2.99%       9.18%       90.05%      10.04%      28.04%      8.09%       27.70%      -3.82%      23.87%      24.96%      12.11%      21.82%      23.59%\n",
      "Worst Year           3.88%       7.16%       -12.50%     -32.14%     -44.81%     -3.10%      4.57%       -28.37%     3.38%       -0.72%      -4.59%      -35.04%     -20.34%     -2.53%      -0.69%      1.69%       6.12%       -1.47%      8.60%       -8.30%      -51.99%     -32.60%     8.84%       -29.77%     2.14%       -0.80%      1.20%       0.68%       -8.01%      0.56%       -9.47%      10.27%      0.62%       -2.32%      -4.15%      -67.94%\n",
      "\n",
      "Avg. Drawdown        -3.57%      -78.12%     -24.93%     -75.06%     -32.47%     -64.80%     -14.92%     -21.74%     -5.74%      -21.27%     -3.46%      -10.63%     -18.91%     -10.49%     -9.37%      -5.80%      -4.17%      -5.59%      -5.32%      -7.59%      -86.87%     -9.78%      -7.27%      -82.58%     -6.09%      -7.81%      -14.07%     -5.15%      -15.27%     -25.86%     -15.20%     -7.22%      -10.56%     -1.47%      -3.41%      -50.18%\n",
      "Avg. Drawdown Days   17.79       604.00      119.80      604.00      200.67      302.50      98.17       66.00       26.24       150.50      11.62       84.14       48.25       39.71       29.58       31.22       18.00       27.15       29.68       43.85       607.00      64.44       26.57       303.00      44.46       44.62       71.75       32.41       117.80      58.30       98.17       33.47       28.35       29.11       29.76       300.50\n",
      "Avg. Up Month        6.11%       16.73%      17.87%      12.29%      16.06%      25.79%      9.05%       20.02%      5.53%       8.40%       11.43%      8.68%       18.56%      15.18%      12.79%      6.69%       6.97%       8.62%       4.57%       10.63%      28.15%      9.00%       10.47%      41.98%      10.94%      14.34%      9.94%       4.72%       6.67%       36.54%      10.56%      7.75%       11.86%      1.87%       2.74%       68.39%\n",
      "Avg. Down Month      -4.94%      -19.73%     -12.30%     -13.96%     -10.77%     -12.96%     -8.49%      -12.50%     -5.06%      -7.71%      -6.82%      -7.56%      -22.56%     -10.56%     -6.83%      -13.32%     -6.34%      -5.06%      -2.37%      -8.84%      -23.48%     -12.52%     -16.85%     -17.15%     -7.58%      -10.02%     -20.62%     -3.82%      -7.03%      -20.83%     -8.17%      -5.06%      -6.06%      -0.94%      -2.40%      -20.91%\n",
      "Win Year %           100.00%     100.00%     50.00%      50.00%      0.00%       50.00%      100.00%     50.00%      100.00%     50.00%      50.00%      0.00%       50.00%      50.00%      50.00%      100.00%     100.00%     50.00%      100.00%     50.00%      50.00%      50.00%      100.00%     50.00%      100.00%     50.00%      100.00%     100.00%     50.00%      100.00%     0.00%       100.00%     100.00%     50.00%      50.00%      50.00%\n",
      "Win 12m %            100.00%     20.00%      20.00%      0.00%       0.00%       100.00%     20.00%      60.00%      100.00%     30.00%      100.00%     0.00%       50.00%      70.00%      100.00%     70.00%      100.00%     100.00%     100.00%     10.00%      30.00%      0.00%       50.00%      40.00%      50.00%      70.00%      30.00%      100.00%     10.00%      90.00%      40.00%      100.00%     90.00%      100.00%     100.00%     0.00%\n"
     ]
    }
   ],
   "source": [
    "returns = prices.to_returns().dropna()\n",
    "stats = prices.calc_stats()\n",
    "\n",
    "stats.display()"
   ]
  },
  {
   "cell_type": "code",
   "execution_count": 193,
   "metadata": {},
   "outputs": [
    {
     "name": "stdout",
     "output_type": "stream",
     "text": [
      "1.0318531639121846\n"
     ]
    },
    {
     "name": "stderr",
     "output_type": "stream",
     "text": [
      "/home/dheeraj/.local/lib/python3.6/site-packages/empyrical/stats.py:1384: FutureWarning: Support for multi-dimensional indexing (e.g. `obj[:, None]`) is deprecated and will be removed in a future version.  Convert to a numpy array before indexing instead.\n",
      "  returns = returns[:, np.newaxis]\n",
      "/home/dheeraj/.local/lib/python3.6/site-packages/empyrical/stats.py:1387: FutureWarning: Support for multi-dimensional indexing (e.g. `obj[:, None]`) is deprecated and will be removed in a future version.  Convert to a numpy array before indexing instead.\n",
      "  factor_returns = factor_returns[:, np.newaxis]\n",
      "/home/dheeraj/.local/lib/python3.6/site-packages/empyrical/stats.py:1294: RuntimeWarning: overflow encountered in power\n",
      "  out=out\n"
     ]
    }
   ],
   "source": [
    "alpha, beta = alpha_beta(msft, benchmark)\n",
    "print(beta)"
   ]
  },
  {
   "cell_type": "code",
   "execution_count": 194,
   "metadata": {},
   "outputs": [],
   "source": [
    "returns = prices.pct_change()\n",
    " \n",
    "# mean daily return and covariance of daily returns\n",
    "# mean_daily_returns = returns.mean()\n",
    "# cov_matrix = returns.cov()\n",
    " \n",
    "# # portfolio weights\n",
    "# weights = np.asarray([0.4,0.2,0.1,0.1,0.1,0.1])\n",
    " \n",
    "# portfolio_return = round(np.sum(mean_daily_returns * weights) * 252,2)\n",
    "# portfolio_std_dev = round(np.sqrt(np.dot(weights.T,np.dot(cov_matrix, weights))) * np.sqrt(252),2)\n",
    "\n",
    "# print(\"Expected annualised return: \" + str(portfolio_return))\n",
    "# print(\"Volatility: \" + str(portfolio_std_dev))"
   ]
  },
  {
   "cell_type": "code",
   "execution_count": 211,
   "metadata": {},
   "outputs": [
    {
     "name": "stdout",
     "output_type": "stream",
     "text": [
      "OrderedDict([('a', 0.0), ('aa', 0.0), ('aacg', 0.0), ('aaic', 0.0), ('aal', 0.0), ('aamc', 0.0), ('aame', 0.0), ('aaoi', 0.0), ('aaon', 0.0), ('aap', 0.0), ('aapl', 0.50052), ('aat', 0.0), ('aau', 0.0), ('aaww', 0.0), ('aaxn', 0.0), ('ab', 0.0), ('abb', 0.0), ('abbv', 0.0), ('abc', 0.0), ('abcb', 0.0), ('abeo', 0.0), ('abev', 0.0), ('abg', 0.01042), ('abio', 0.0), ('abm', 0.0), ('abmd', 0.0), ('abr', 0.0), ('abt', 0.0), ('abtx', 0.0), ('abus', 0.0), ('ac', 0.0), ('aca', 0.0), ('acad', 0.04178), ('acam', 0.40552), ('acamu', 0.02086), ('acb', 0.0), ('acbi', 0.0), ('acc', 0.0), ('acco', 0.0), ('acel', 0.0), ('acer', 0.0), ('acet', 0.0), ('acgl', 0.0), ('acglo', 0.0), ('acglp', 0.0), ('ach', 0.0), ('achc', 0.0), ('achv', 0.0), ('acia', 0.02089), ('aciu', 0.0), ('aciw', 0.0)])\n",
      "Expected annual return: 44.7%\n",
      "Annual volatility: 21.8%\n",
      "Sharpe Ratio: 1.96\n"
     ]
    },
    {
     "data": {
      "text/plain": [
       "(0.44734805821921664, 0.21791586573463523, 1.961069042763574)"
      ]
     },
     "execution_count": 211,
     "metadata": {},
     "output_type": "execute_result"
    }
   ],
   "source": [
    "# Expected returns and sample covariance\n",
    "mu = expected_returns.mean_historical_return(prices)\n",
    "S = risk_models.sample_cov(prices)\n",
    "\n",
    "# Optimise portfolio for maximum Sharpe Ratio\n",
    "ef = EfficientFrontier(mu, S)\n",
    "raw_weights = ef.max_sharpe()\n",
    "cleaned_weights = ef.clean_weights()\n",
    "print(cleaned_weights)\n",
    "ef.portfolio_performance(verbose=True)\n"
   ]
  },
  {
   "cell_type": "code",
   "execution_count": 212,
   "metadata": {},
   "outputs": [
    {
     "name": "stdout",
     "output_type": "stream",
     "text": [
      "{'aapl': 24, 'acad': 5, 'acam': 222, 'acamu': 10, 'acia': 2}\n",
      "Funds remaining: $2.54\n"
     ]
    }
   ],
   "source": [
    "latest_prices = get_latest_prices(prices)\n",
    "da = DiscreteAllocation(cleaned_weights, latest_prices, total_portfolio_value=6000)\n",
    "allocation, leftover = da.lp_portfolio()\n",
    "\n",
    "print(allocation)\n",
    "print(\"Funds remaining: ${:.2f}\".format(leftover))"
   ]
  },
  {
   "cell_type": "code",
   "execution_count": 209,
   "metadata": {},
   "outputs": [
    {
     "data": {
      "text/plain": [
       "OrderedDict([('a', 0.0315015893389542),\n",
       "             ('aa', -0.0092510905889794),\n",
       "             ('aacg', -0.0063817376487219),\n",
       "             ('aaic', -0.0055235677012912),\n",
       "             ('aal', -0.0162371185431683),\n",
       "             ('aamc', 0.0012143421988103),\n",
       "             ('aame', -0.0025862487640527),\n",
       "             ('aaoi', -0.0083601645867665),\n",
       "             ('aaon', -0.0170365745519976),\n",
       "             ('aap', -0.0330210264430172),\n",
       "             ('aapl', 0.1068110333404698),\n",
       "             ('aat', -0.0452762597296056),\n",
       "             ('aau', 0.0018391952747618),\n",
       "             ('aaww', -0.0087653913958821),\n",
       "             ('aaxn', 0.0090508193847637),\n",
       "             ('ab', -0.0182116745145118),\n",
       "             ('abb', 0.0350227676920341),\n",
       "             ('abbv', 0.0072254169914589),\n",
       "             ('abc', 0.0116067353851758),\n",
       "             ('abcb', 0.0407764456776654),\n",
       "             ('abeo', -0.0044405015864341),\n",
       "             ('abev', -0.0265045069387282),\n",
       "             ('abg', 0.0420824059241794),\n",
       "             ('abio', -0.001679789070084),\n",
       "             ('abm', -0.0065808490869567),\n",
       "             ('abmd', -0.0020162188967929),\n",
       "             ('abr', 0.0185702296579059),\n",
       "             ('abt', -0.0379019477932081),\n",
       "             ('abtx', -0.0241130996723019),\n",
       "             ('abus', 0.0018949974320808),\n",
       "             ('ac', -0.0100647594364739),\n",
       "             ('aca', 0.0417525167540811),\n",
       "             ('acad', 0.0065449370704137),\n",
       "             ('acam', -0.0146614026058216),\n",
       "             ('acamu', 0.0054929436391247),\n",
       "             ('acb', -0.0080546375964869),\n",
       "             ('acbi', -0.0015846142999762),\n",
       "             ('acc', -0.0022553892100872),\n",
       "             ('acco', 0.001359736729269),\n",
       "             ('acel', 0.0033034287180934),\n",
       "             ('acer', -0.0122137433972277),\n",
       "             ('acet', -0.0081212193517879),\n",
       "             ('acgl', -0.0199727778008492),\n",
       "             ('acglo', 0.0051259758195407),\n",
       "             ('acglp', -0.0100088434874479),\n",
       "             ('ach', -0.0146909003432051),\n",
       "             ('achc', 0.0154540780205683),\n",
       "             ('achv', -0.012016376383509),\n",
       "             ('acia', 0.0009028363760221)])"
      ]
     },
     "execution_count": 209,
     "metadata": {},
     "output_type": "execute_result"
    }
   ],
   "source": [
    "ef = EfficientFrontier(mu, S, weight_bounds=(-1, 1))\n",
    "ef.efficient_return(target_return=0.2, market_neutral=True)"
   ]
  },
  {
   "cell_type": "markdown",
   "metadata": {},
   "source": [
    "# Script For Portfolio Optimization Based on Efficient Frontier"
   ]
  },
  {
   "cell_type": "code",
   "execution_count": 217,
   "metadata": {},
   "outputs": [],
   "source": [
    "prices = ffn.get(tickers[0:51], start = '2016-01-01')\n",
    "benchmark = ffn.get('spy', start='2016-01-01')"
   ]
  },
  {
   "cell_type": "code",
   "execution_count": 218,
   "metadata": {},
   "outputs": [
    {
     "name": "stdout",
     "output_type": "stream",
     "text": [
      "OrderedDict([('a', 0.0), ('aa', 0.0), ('aacg', 0.0), ('aaic', 0.0), ('aal', 0.0), ('aamc', 0.0), ('aame', 0.0), ('aaoi', 0.0), ('aaon', 0.0), ('aap', 0.0), ('aapl', 0.50052), ('aat', 0.0), ('aau', 0.0), ('aaww', 0.0), ('aaxn', 0.0), ('ab', 0.0), ('abb', 0.0), ('abbv', 0.0), ('abc', 0.0), ('abcb', 0.0), ('abeo', 0.0), ('abev', 0.0), ('abg', 0.01042), ('abio', 0.0), ('abm', 0.0), ('abmd', 0.0), ('abr', 0.0), ('abt', 0.0), ('abtx', 0.0), ('abus', 0.0), ('ac', 0.0), ('aca', 0.0), ('acad', 0.04178), ('acam', 0.40552), ('acamu', 0.02086), ('acb', 0.0), ('acbi', 0.0), ('acc', 0.0), ('acco', 0.0), ('acel', 0.0), ('acer', 0.0), ('acet', 0.0), ('acgl', 0.0), ('acglo', 0.0), ('acglp', 0.0), ('ach', 0.0), ('achc', 0.0), ('achv', 0.0), ('acia', 0.02089), ('aciu', 0.0), ('aciw', 0.0)])\n",
      "Expected annual return: 44.7%\n",
      "Annual volatility: 21.8%\n",
      "Sharpe Ratio: 1.96\n"
     ]
    },
    {
     "data": {
      "text/plain": [
       "(0.44734805821921664, 0.21791586573463523, 1.961069042763574)"
      ]
     },
     "execution_count": 218,
     "metadata": {},
     "output_type": "execute_result"
    }
   ],
   "source": [
    "# Expected returns and sample covariance\n",
    "mu = expected_returns.mean_historical_return(prices)\n",
    "S = risk_models.sample_cov(prices)\n",
    "\n",
    "# Optimise portfolio for maximum Sharpe Ratio\n",
    "ef = EfficientFrontier(mu, S)\n",
    "raw_weights = ef.max_sharpe()\n",
    "cleaned_weights = ef.clean_weights()\n",
    "print(cleaned_weights)\n",
    "ef.portfolio_performance(verbose=True)\n"
   ]
  },
  {
   "cell_type": "code",
   "execution_count": 219,
   "metadata": {},
   "outputs": [
    {
     "name": "stdout",
     "output_type": "stream",
     "text": [
      "{'aapl': 24, 'acad': 5, 'acam': 222, 'acamu': 10, 'acia': 2}\n",
      "Funds remaining: $2.54\n"
     ]
    }
   ],
   "source": [
    "latest_prices = get_latest_prices(prices)\n",
    "da = DiscreteAllocation(cleaned_weights, latest_prices, total_portfolio_value=6000)\n",
    "allocation, leftover = da.lp_portfolio()\n",
    "\n",
    "print(allocation)\n",
    "print(\"Funds remaining: ${:.2f}\".format(leftover))"
   ]
  },
  {
   "cell_type": "code",
   "execution_count": 220,
   "metadata": {},
   "outputs": [
    {
     "data": {
      "text/plain": [
       "OrderedDict([('a', 0.0320959711433153),\n",
       "             ('aa', -0.0082949581422592),\n",
       "             ('aacg', -0.0056937799852446),\n",
       "             ('aaic', -0.0051046399066623),\n",
       "             ('aal', -0.0168549249431155),\n",
       "             ('aamc', 0.0010569000778719),\n",
       "             ('aame', -0.0026511333462597),\n",
       "             ('aaoi', -0.0076837344408727),\n",
       "             ('aaon', -0.0168429900721064),\n",
       "             ('aap', -0.0328856489498937),\n",
       "             ('aapl', 0.1075952985090302),\n",
       "             ('aat', -0.0458436836466612),\n",
       "             ('aau', 0.0018030763374588),\n",
       "             ('aaww', -0.0086462165897094),\n",
       "             ('aaxn', 0.0087948665317227),\n",
       "             ('ab', -0.0180306143798567),\n",
       "             ('abb', 0.0331066071206817),\n",
       "             ('abbv', 0.0086117796551145),\n",
       "             ('abc', 0.0110946115044426),\n",
       "             ('abcb', 0.0410193761847629),\n",
       "             ('abeo', -0.0040418597867516),\n",
       "             ('abev', -0.024845834481656),\n",
       "             ('abg', 0.042082093313571),\n",
       "             ('abio', -0.0016809533546715),\n",
       "             ('abm', -0.0063356207096339),\n",
       "             ('abmd', -0.0017674340013306),\n",
       "             ('abr', 0.0173135530452426),\n",
       "             ('abt', -0.0362279213021283),\n",
       "             ('abtx', -0.0249192600026925),\n",
       "             ('abus', 0.0019381738852781),\n",
       "             ('ac', -0.010367101450018),\n",
       "             ('aca', 0.0413711332996637),\n",
       "             ('acad', 0.00765654594404),\n",
       "             ('acam', -0.0133433586425651),\n",
       "             ('acamu', 0.0043869303686861),\n",
       "             ('acb', -0.0078897536635743),\n",
       "             ('acbi', -0.000333702746489),\n",
       "             ('acc', -0.0012398068140774),\n",
       "             ('acco', 0.0016427516746708),\n",
       "             ('acel', 0.0048806275387844),\n",
       "             ('acer', -0.0120811114915942),\n",
       "             ('acet', -0.0079697756067486),\n",
       "             ('acgl', -0.0213143231695024),\n",
       "             ('acglo', 0.0111720435709781),\n",
       "             ('acglp', -0.014332527718856),\n",
       "             ('ach', -0.0153134497958022),\n",
       "             ('achc', 0.0161375763075323),\n",
       "             ('achv', -0.0121505850613057),\n",
       "             ('acia', 0.000588915526118),\n",
       "             ('aciu', -0.0068143403900623),\n",
       "             ('aciw', -0.0028477869468648)])"
      ]
     },
     "execution_count": 220,
     "metadata": {},
     "output_type": "execute_result"
    }
   ],
   "source": [
    "ef = EfficientFrontier(mu, S, weight_bounds=(-1, 1))\n",
    "ef.efficient_return(target_return=0.2, market_neutral=True)"
   ]
  },
  {
   "cell_type": "code",
   "execution_count": null,
   "metadata": {},
   "outputs": [],
   "source": []
  }
 ],
 "metadata": {
  "kernelspec": {
   "display_name": "Python 3",
   "language": "python",
   "name": "python3"
  },
  "language_info": {
   "codemirror_mode": {
    "name": "ipython",
    "version": 3
   },
   "file_extension": ".py",
   "mimetype": "text/x-python",
   "name": "python",
   "nbconvert_exporter": "python",
   "pygments_lexer": "ipython3",
   "version": "3.6.9"
  }
 },
 "nbformat": 4,
 "nbformat_minor": 2
}
