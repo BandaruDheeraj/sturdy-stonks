{
 "cells": [
  {
   "cell_type": "code",
   "execution_count": 7,
   "metadata": {},
   "outputs": [],
   "source": [
    "import ffn\n",
    "\n",
    "# pip install pandas-datareader --upgrade"
   ]
  },
  {
   "cell_type": "code",
   "execution_count": 8,
   "metadata": {},
   "outputs": [
    {
     "data": {
      "text/plain": [
       "aapl    52.10%\n",
       "msft     0.00%\n",
       "dkng    20.66%\n",
       "nvda     6.66%\n",
       "lmnd    20.58%\n",
       "dtype: object"
      ]
     },
     "execution_count": 8,
     "metadata": {},
     "output_type": "execute_result"
    }
   ],
   "source": [
    "returns = ffn.get('aapl,msft,dkng,nvda,lmnd', start='2010-01-01').to_returns().dropna()\n",
    "returns.calc_mean_var_weights().as_format('.2%')"
   ]
  },
  {
   "cell_type": "code",
   "execution_count": 21,
   "metadata": {},
   "outputs": [],
   "source": [
    "from empyrical import alpha_beta\n",
    "from pypfopt.efficient_frontier import EfficientFrontier\n",
    "from pypfopt import risk_models\n",
    "from pypfopt import expected_returns\n",
    "from pypfopt import discrete_allocation\n",
    "from pypfopt.discrete_allocation import DiscreteAllocation, get_latest_prices\n",
    "import matplotlib as pyplot\n",
    "import numpy as np\n",
    "import pandas as pd"
   ]
  },
  {
   "cell_type": "code",
   "execution_count": 12,
   "metadata": {},
   "outputs": [],
   "source": [
    "prices = ffn.get('msft,aapl,amzn,fb,brk-b,jnj', start='2016-01-01')\n",
    "benchmark = ffn.get('spy', start='2016-01-01')\n"
   ]
  },
  {
   "cell_type": "code",
   "execution_count": 13,
   "metadata": {},
   "outputs": [],
   "source": [
    "msft = ffn.get('msft', start='2016-01-01')\n",
    "ax = prices.rebase().plot()"
   ]
  },
  {
   "cell_type": "code",
   "execution_count": 15,
   "metadata": {},
   "outputs": [
    {
     "name": "stdout",
     "output_type": "stream",
     "text": [
      "Stat                 msft        aapl        amzn        fb          brkb        jnj\n",
      "-------------------  ----------  ----------  ----------  ----------  ----------  ----------\n",
      "Start                2016-01-04  2016-01-04  2016-01-04  2016-01-04  2016-01-04  2016-01-04\n",
      "End                  2021-01-06  2021-01-06  2021-01-06  2021-01-06  2021-01-06  2021-01-06\n",
      "Risk-free rate       0.00%       0.00%       0.00%       0.00%       0.00%       0.00%\n",
      "\n",
      "Total Return         324.44%     418.83%     392.69%     157.59%     76.11%      82.04%\n",
      "Daily Sharpe         1.18        1.24        1.20        0.74        0.64        0.70\n",
      "Daily Sortino        1.93        2.03        2.05        1.17        1.00        1.08\n",
      "CAGR                 33.47%      38.93%      37.50%      20.80%      11.97%      12.71%\n",
      "Max Drawdown         -28.04%     -38.52%     -34.10%     -42.96%     -29.57%     -27.37%\n",
      "Calmar Ratio         1.19        1.01        1.10        0.48        0.40        0.46\n",
      "\n",
      "MTD                  -4.57%      -4.59%      -3.64%      -3.61%      -0.69%      1.56%\n",
      "3m                   3.35%       12.07%      1.24%       1.80%       9.52%       10.04%\n",
      "6m                   1.24%       35.93%      2.66%       9.58%       26.02%      13.31%\n",
      "YTD                  -4.57%      -4.59%      -3.64%      -3.61%      -0.69%      1.56%\n",
      "1Y                   34.88%      70.37%      64.93%      23.85%      1.44%       13.93%\n",
      "3Y (ann.)            35.94%      44.60%      36.09%      11.85%      4.34%       6.92%\n",
      "5Y (ann.)            33.88%      40.24%      37.74%      20.65%      11.88%      12.74%\n",
      "10Y (ann.)           33.47%      38.93%      37.50%      20.80%      11.97%      12.71%\n",
      "Since Incep. (ann.)  33.47%      38.93%      37.50%      20.80%      11.97%      12.71%\n",
      "\n",
      "Daily Sharpe         1.18        1.24        1.20        0.74        0.64        0.70\n",
      "Daily Sortino        1.93        2.03        2.05        1.17        1.00        1.08\n",
      "Daily Mean (ann.)    32.76%      37.49%      36.47%      24.38%      13.61%      13.95%\n",
      "Daily Vol (ann.)     27.76%      30.21%      30.33%      32.94%      21.42%      19.86%\n",
      "Daily Skew           -0.02       -0.10       0.30        -0.34       -0.10       -0.41\n",
      "Daily Kurt           10.78       7.15        4.92        12.50       13.94       11.53\n",
      "Best Day             14.22%      11.98%      13.22%      15.52%      11.61%      8.00%\n",
      "Worst Day            -14.74%     -12.86%     -7.92%      -18.96%     -9.59%      -10.04%\n",
      "\n",
      "Monthly Sharpe       1.66        1.31        1.35        0.75        0.77        0.76\n",
      "Monthly Sortino      3.74        2.74        3.09        1.70        1.51        1.39\n",
      "Monthly Mean (ann.)  30.81%      39.39%      37.70%      20.86%      12.91%      12.62%\n",
      "Monthly Vol (ann.)   18.51%      29.98%      27.88%      27.98%      16.88%      16.64%\n",
      "Monthly Skew         -0.19       -0.28       0.24        0.71        0.05        -0.15\n",
      "Monthly Kurt         -0.31       -0.26       1.38        0.98        0.30        0.74\n",
      "Best Month           13.63%      21.66%      26.89%      27.16%      13.38%      14.42%\n",
      "Worst Month          -9.70%      -18.12%     -20.22%     -13.34%     -11.39%     -12.15%\n",
      "\n",
      "Yearly Sharpe        1.31        0.92        1.17        0.63        0.83        0.82\n",
      "Yearly Sortino       15.36       15.27       22.12       2.03        24.14       4.17\n",
      "Yearly Mean          31.41%      41.95%      36.01%      22.74%      7.45%       9.58%\n",
      "Yearly Vol           23.99%      45.52%      30.89%      36.17%      9.01%       11.69%\n",
      "Yearly Skew          -0.84       -0.16       0.12        -0.56       1.21        -0.03\n",
      "Yearly Kurt          0.23        -2.98       -0.74       -2.01       0.71        -1.21\n",
      "Best Year            57.56%      88.96%      76.26%      56.57%      21.62%      24.43%\n",
      "Worst Year           -4.57%      -5.39%      -3.64%      -25.71%     -0.69%      -5.13%\n",
      "\n",
      "Avg. Drawdown        -2.91%      -3.78%      -4.35%      -4.64%      -2.88%      -3.02%\n",
      "Avg. Drawdown Days   16.80       21.47       26.72       27.30       35.10       32.73\n",
      "Avg. Up Month        5.17%       8.84%       7.91%       6.79%       4.39%       3.83%\n",
      "Avg. Down Month      -4.01%      -5.66%      -4.53%      -5.34%      -3.26%      -3.74%\n",
      "Win Year %           80.00%      60.00%      80.00%      60.00%      80.00%      80.00%\n",
      "Win 12m %            100.00%     90.00%      96.00%      84.00%      78.00%      82.00%\n"
     ]
    }
   ],
   "source": [
    "returns = prices.to_returns().dropna()\n",
    "stats = prices.calc_stats()\n",
    "\n",
    "stats.display()"
   ]
  },
  {
   "cell_type": "code",
   "execution_count": 17,
   "metadata": {},
   "outputs": [
    {
     "name": "stdout",
     "output_type": "stream",
     "text": [
      "1.0318531639121846\n"
     ]
    },
    {
     "name": "stderr",
     "output_type": "stream",
     "text": [
      "/home/dheeraj/.local/lib/python3.6/site-packages/empyrical/stats.py:1384: FutureWarning: Support for multi-dimensional indexing (e.g. `obj[:, None]`) is deprecated and will be removed in a future version.  Convert to a numpy array before indexing instead.\n",
      "  returns = returns[:, np.newaxis]\n",
      "/home/dheeraj/.local/lib/python3.6/site-packages/empyrical/stats.py:1387: FutureWarning: Support for multi-dimensional indexing (e.g. `obj[:, None]`) is deprecated and will be removed in a future version.  Convert to a numpy array before indexing instead.\n",
      "  factor_returns = factor_returns[:, np.newaxis]\n",
      "/home/dheeraj/.local/lib/python3.6/site-packages/empyrical/stats.py:1294: RuntimeWarning: overflow encountered in power\n",
      "  out=out\n"
     ]
    }
   ],
   "source": [
    "alpha, beta = alpha_beta(msft, benchmark)\n",
    "print(beta)"
   ]
  },
  {
   "cell_type": "code",
   "execution_count": 18,
   "metadata": {},
   "outputs": [
    {
     "name": "stdout",
     "output_type": "stream",
     "text": [
      "Expected annualised return: 0.29\n",
      "Volatility: 0.23\n"
     ]
    }
   ],
   "source": [
    "returns = prices.pct_change()\n",
    " \n",
    "# mean daily return and covariance of daily returns\n",
    "mean_daily_returns = returns.mean()\n",
    "cov_matrix = returns.cov()\n",
    " \n",
    "# portfolio weights\n",
    "weights = np.asarray([0.4,0.2,0.1,0.1,0.1,0.1])\n",
    " \n",
    "portfolio_return = round(np.sum(mean_daily_returns * weights) * 252,2)\n",
    "portfolio_std_dev = round(np.sqrt(np.dot(weights.T,np.dot(cov_matrix, weights))) * np.sqrt(252),2)\n",
    "\n",
    "print(\"Expected annualised return: \" + str(portfolio_return))\n",
    "print(\"Volatility: \" + str(portfolio_std_dev))"
   ]
  },
  {
   "cell_type": "code",
   "execution_count": 19,
   "metadata": {},
   "outputs": [
    {
     "name": "stdout",
     "output_type": "stream",
     "text": [
      "OrderedDict([('msft', 0.15105), ('aapl', 0.46207), ('amzn', 0.38688), ('fb', 0.0), ('brkb', 0.0), ('jnj', 0.0)])\n",
      "Expected annual return: 37.6%\n",
      "Annual volatility: 26.4%\n",
      "Sharpe Ratio: 1.35\n"
     ]
    },
    {
     "data": {
      "text/plain": [
       "(0.37582442609589006, 0.26400802209490176, 1.3477788412352996)"
      ]
     },
     "execution_count": 19,
     "metadata": {},
     "output_type": "execute_result"
    }
   ],
   "source": [
    "# Expected returns and sample covariance\n",
    "mu = expected_returns.mean_historical_return(prices)\n",
    "S = risk_models.sample_cov(prices)\n",
    "\n",
    "# Optimise portfolio for maximum Sharpe Ratio\n",
    "ef = EfficientFrontier(mu, S)\n",
    "raw_weights = ef.max_sharpe()\n",
    "cleaned_weights = ef.clean_weights()\n",
    "print(cleaned_weights)\n",
    "ef.portfolio_performance(verbose=True)\n"
   ]
  },
  {
   "cell_type": "code",
   "execution_count": 24,
   "metadata": {},
   "outputs": [
    {
     "name": "stdout",
     "output_type": "stream",
     "text": [
      "{'msft': 8, 'aapl': 37, 'amzn': 1}\n",
      "Funds remaining: $479.42\n"
     ]
    }
   ],
   "source": [
    "latest_prices = get_latest_prices(prices)\n",
    "da = DiscreteAllocation(cleaned_weights, latest_prices, total_portfolio_value=10000)\n",
    "allocation, leftover = da.lp_portfolio()\n",
    "\n",
    "print(allocation)\n",
    "print(\"Funds remaining: ${:.2f}\".format(leftover))"
   ]
  },
  {
   "cell_type": "code",
   "execution_count": 25,
   "metadata": {},
   "outputs": [
    {
     "data": {
      "text/plain": [
       "OrderedDict([('msft', 0.3306209130531257),\n",
       "             ('aapl', 0.3804242626856893),\n",
       "             ('amzn', 0.1993137180170164),\n",
       "             ('fb', -0.2627083197121372),\n",
       "             ('brkb', -0.4422352450264824),\n",
       "             ('jnj', -0.2054153290172119)])"
      ]
     },
     "execution_count": 25,
     "metadata": {},
     "output_type": "execute_result"
    }
   ],
   "source": [
    "ef = EfficientFrontier(mu, S, weight_bounds=(-1, 1))\n",
    "ef.efficient_return(target_return=0.2, market_neutral=True)"
   ]
  },
  {
   "cell_type": "code",
   "execution_count": null,
   "metadata": {},
   "outputs": [],
   "source": []
  }
 ],
 "metadata": {
  "kernelspec": {
   "display_name": "Python 3",
   "language": "python",
   "name": "python3"
  },
  "language_info": {
   "codemirror_mode": {
    "name": "ipython",
    "version": 3
   },
   "file_extension": ".py",
   "mimetype": "text/x-python",
   "name": "python",
   "nbconvert_exporter": "python",
   "pygments_lexer": "ipython3",
   "version": "3.6.9"
  }
 },
 "nbformat": 4,
 "nbformat_minor": 2
}
